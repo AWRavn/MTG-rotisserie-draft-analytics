{
 "cells": [
  {
   "cell_type": "markdown",
   "id": "88005a18",
   "metadata": {},
   "source": [
    "## Load and Compile Data"
   ]
  },
  {
   "cell_type": "markdown",
   "id": "0a3f9a77",
   "metadata": {},
   "source": [
    "**Importing required libraries and datasets**"
   ]
  },
  {
   "cell_type": "code",
   "execution_count": 375,
   "id": "56d6415f",
   "metadata": {},
   "outputs": [],
   "source": [
    "import pandas as pd\n",
    "import matplotlib as plt\n",
    "import seaborn as sns\n",
    "import os\n",
    "\n",
    "DATA_PATH = '../data/vrd_data/'"
   ]
  },
  {
   "cell_type": "markdown",
   "id": "d6f1cfcf",
   "metadata": {},
   "source": [
    "We can inspect the datasets one at a time to ensure consistent setup. First we get all the datasets for convenience. Tournaments with same letter prefix tend to follow the same data setup."
   ]
  },
  {
   "cell_type": "code",
   "execution_count": 385,
   "id": "2bc55dad",
   "metadata": {},
   "outputs": [
    {
     "name": "stdout",
     "output_type": "stream",
     "text": [
      "cleaned_vrd_data.csv extras.csv VRD Archives - ALEX1.csv VRD Archives - CHI1.csv VRD Archives - CHI2.csv VRD Archives - CHI3.csv VRD Archives - DIS1.csv VRD Archives - DIS10.csv VRD Archives - DIS11.csv VRD Archives - DIS12.csv VRD Archives - DIS13.csv VRD Archives - DIS2.csv VRD Archives - DIS3.csv VRD Archives - DIS4.csv VRD Archives - DIS5.csv VRD Archives - DIS6.csv VRD Archives - DIS8.csv VRD Archives - DIS9.csv VRD Archives - GG1.csv VRD Archives - GG6.csv VRD Archives - MT1.csv VRD Archives - MT2.csv VRD Archives - MT3.csv VRD Archives - NWVRD2.csv VRD Archives - NWVRD3.csv VRD Archives - NWVRD4.csv VRD Archives - NWVRD5.csv VRD Archives - NWVRD6.csv VRD Archives - NWVRD7.csv VRD Archives - NWVRD8.csv VRD Archives - OCL3.csv VRD Archives - PDX1.csv VRD Archives - PDX2.csv VRD Archives - PDX3.csv VRD Archives - PDX4.csv VRD Archives - STL6.csv VRD Archives - StLotus1.csv VRD Archives - StLotus2.csv VRD Archives - StLotus3.csv VRD Archives - StLotus4.csv VRD Archives - StLotus5.csv VRD Archives - StLotus7.csv VRD Archives - StLotus8.csv VRD Archives - STLPresents1.csv VRD Archives - TAN1.csv VRD Archives - TAN2.csv VRD Archives - VIC8.csv VRD Archives - WIN1.csv VRD Archives - WIN2.csv VRD Archives - WIN3.csv VRD Archives - WIN4.csv VRD Archives - WIN7.csv VRD Archives - YYZ1.csv\n"
     ]
    }
   ],
   "source": [
    "filenames = []\n",
    "for (dirpath, dirname, filename) in os.walk(DATA_PATH):\n",
    "    filenames.extend(filename)\n",
    "    break\n",
    "print(*filenames)"
   ]
  },
  {
   "cell_type": "markdown",
   "id": "2b338649",
   "metadata": {},
   "source": [
    "Example preview of a dataset."
   ]
  },
  {
   "cell_type": "code",
   "execution_count": 394,
   "id": "75ea79bf",
   "metadata": {},
   "outputs": [
    {
     "data": {
      "text/html": [
       "<div>\n",
       "<style scoped>\n",
       "    .dataframe tbody tr th:only-of-type {\n",
       "        vertical-align: middle;\n",
       "    }\n",
       "\n",
       "    .dataframe tbody tr th {\n",
       "        vertical-align: top;\n",
       "    }\n",
       "\n",
       "    .dataframe thead th {\n",
       "        text-align: right;\n",
       "    }\n",
       "</style>\n",
       "<table border=\"1\" class=\"dataframe\">\n",
       "  <thead>\n",
       "    <tr style=\"text-align: right;\">\n",
       "      <th></th>\n",
       "      <th>Unnamed: 0</th>\n",
       "      <th>JB</th>\n",
       "      <th>JW</th>\n",
       "      <th>AW</th>\n",
       "      <th>DL</th>\n",
       "      <th>JG</th>\n",
       "      <th>SW</th>\n",
       "      <th>MT</th>\n",
       "      <th>AP</th>\n",
       "    </tr>\n",
       "  </thead>\n",
       "  <tbody>\n",
       "    <tr>\n",
       "      <th>0</th>\n",
       "      <td>Wins</td>\n",
       "      <td>2</td>\n",
       "      <td>2</td>\n",
       "      <td>6</td>\n",
       "      <td>5</td>\n",
       "      <td>3</td>\n",
       "      <td>5</td>\n",
       "      <td>1</td>\n",
       "      <td>4</td>\n",
       "    </tr>\n",
       "    <tr>\n",
       "      <th>1</th>\n",
       "      <td>Losses</td>\n",
       "      <td>5</td>\n",
       "      <td>5</td>\n",
       "      <td>1</td>\n",
       "      <td>2</td>\n",
       "      <td>4</td>\n",
       "      <td>2</td>\n",
       "      <td>6</td>\n",
       "      <td>3</td>\n",
       "    </tr>\n",
       "    <tr>\n",
       "      <th>2</th>\n",
       "      <td>Date</td>\n",
       "      <td>2014-12-17</td>\n",
       "      <td>NaN</td>\n",
       "      <td>NaN</td>\n",
       "      <td>NaN</td>\n",
       "      <td>NaN</td>\n",
       "      <td>NaN</td>\n",
       "      <td>NaN</td>\n",
       "      <td>NaN</td>\n",
       "    </tr>\n",
       "    <tr>\n",
       "      <th>3</th>\n",
       "      <td>Notes</td>\n",
       "      <td>this came from some guy posting on a forum about his VRD: http://skullheart.com/index.php?threads/magic-the-gathering.6185/page-2</td>\n",
       "      <td>NaN</td>\n",
       "      <td>NaN</td>\n",
       "      <td>NaN</td>\n",
       "      <td>NaN</td>\n",
       "      <td>NaN</td>\n",
       "      <td>NaN</td>\n",
       "      <td>NaN</td>\n",
       "    </tr>\n",
       "    <tr>\n",
       "      <th>4</th>\n",
       "      <td>1</td>\n",
       "      <td>Black Lotus</td>\n",
       "      <td>Mox Sapphire</td>\n",
       "      <td>Mox Jet</td>\n",
       "      <td>Mox Pearl</td>\n",
       "      <td>Ancestral Recall</td>\n",
       "      <td>Mox Ruby</td>\n",
       "      <td>Mox Emerald</td>\n",
       "      <td>LIBRARY OF ALEXANDRIA</td>\n",
       "    </tr>\n",
       "  </tbody>\n",
       "</table>\n",
       "</div>"
      ],
      "text/plain": [
       "  Unnamed: 0  \\\n",
       "0       Wins   \n",
       "1     Losses   \n",
       "2       Date   \n",
       "3      Notes   \n",
       "4          1   \n",
       "\n",
       "                                                                                                                                  JB  \\\n",
       "0                                                                                                                                  2   \n",
       "1                                                                                                                                  5   \n",
       "2                                                                                                                         2014-12-17   \n",
       "3  this came from some guy posting on a forum about his VRD: http://skullheart.com/index.php?threads/magic-the-gathering.6185/page-2   \n",
       "4                                                                                                                        Black Lotus   \n",
       "\n",
       "             JW       AW         DL                JG        SW           MT  \\\n",
       "0             2        6          5                 3         5            1   \n",
       "1             5        1          2                 4         2            6   \n",
       "2           NaN      NaN        NaN               NaN       NaN          NaN   \n",
       "3           NaN      NaN        NaN               NaN       NaN          NaN   \n",
       "4  Mox Sapphire  Mox Jet  Mox Pearl  Ancestral Recall  Mox Ruby  Mox Emerald   \n",
       "\n",
       "                      AP  \n",
       "0                      4  \n",
       "1                      3  \n",
       "2                    NaN  \n",
       "3                    NaN  \n",
       "4  LIBRARY OF ALEXANDRIA  "
      ]
     },
     "execution_count": 394,
     "metadata": {},
     "output_type": "execute_result"
    }
   ],
   "source": [
    "df = pd.read_csv(DATA_PATH + 'VRD Archives - ALEX1.csv')\n",
    "df.head()"
   ]
  },
  {
   "cell_type": "markdown",
   "id": "8222430d",
   "metadata": {},
   "source": [
    "**Define and populate dataframe colums.**\n",
    "\n",
    "We will add more columns later."
   ]
  },
  {
   "cell_type": "code",
   "execution_count": 378,
   "id": "7aba9f4a",
   "metadata": {},
   "outputs": [],
   "source": [
    "df = pd.DataFrame(columns = ['card_name', 'pick_idx', 'player_idx', 'player_idx_rl', 'round_idx', 'deck_wins', 'deck_losses', 'player_id', 'tournament_id', 'date'])"
   ]
  },
  {
   "cell_type": "markdown",
   "id": "224f897d",
   "metadata": {},
   "source": [
    "Due to similar setup we can loop through all of the libraries in order."
   ]
  },
  {
   "cell_type": "code",
   "execution_count": 395,
   "id": "445ff4c2",
   "metadata": {},
   "outputs": [],
   "source": [
    "for file in os.listdir(DATA_PATH):\n",
    "    if file.startswith('VRD Archives - '):\n",
    "        \n",
    "        # 12 players in this data which would skew the results\n",
    "        if file == 'VRD Archives - CHI1.csv': continue\n",
    "        # Uncooperative, will skip for now\n",
    "        elif file == 'VRD Archives - GG6.csv': continue\n",
    "        elif file == 'VRD Archives - TAN1.csv': continue\n",
    "        #print(file)\n",
    "        \n",
    "        # Get tournament id\n",
    "        tournament_id = file.split(' - ')[1].replace('.csv', '')\n",
    "        \n",
    "        tmp_df = pd.read_csv(DATA_PATH + file)\n",
    "        \n",
    "        # Get date\n",
    "        date = tmp_df[tmp_df.iloc[:, 0].str.contains('Date', na=False, case=False)].iloc[:, 1].iloc[-1]                \n",
    "        \n",
    "        # Get player ids in an ordered list\n",
    "        player_ids = list(tmp_df)[1:]\n",
    "        \n",
    "        # Get player wins in an ordered list\n",
    "        wins = tmp_df[tmp_df.iloc[:, 0].str.contains('Wins', na=False, case=False)].iloc[:, 1:].values[0] #unpack double list\n",
    "\n",
    "        # Get player losses in an ordered list\n",
    "        losses = tmp_df[tmp_df.iloc[:, 0].str.contains('Losses', na=False, case=False)].iloc[:, 1:].values[0] #unpack double list\n",
    "        \n",
    "        # Now we grab the card names and relative indexes. The cards are picked in order from left to right in the first row, \n",
    "        # and then every other row, and from the right to left otherwise, following a back and forth pattern.\n",
    "        # This can be added to the dataframe including the previously obtained data.\n",
    "        \n",
    "        # find index of the row with 1 in the first cell, that's where card selection begins\n",
    "        start_row = tmp_df[tmp_df.iloc[:, 0]=='1'].index.values.astype(int)[0]\n",
    "        \n",
    "        # get a slice containing the drafted cards\n",
    "        cards_df = tmp_df.iloc[start_row:,1:9].reset_index(drop=True)\n",
    "        cards_df.index += 1 # make index equal to round\n",
    "        cards_df = cards_df.applymap(lambda s: s.lower().strip() if type(s) == str else s)\n",
    "        \n",
    "        # Maps to map player_ids to wins, losses, and player_idx\n",
    "        map_idx = {player_ids[i]: player_ids.index(player_ids[i])+1 for i in range(len(player_ids))}\n",
    "        map_idx_rl = {player_ids[i]: [8, 7, 6, 5, 4, 3, 2, 1][i] for i in range(len(player_ids))}\n",
    "        map_wins = {player_ids[i]: wins[i] for i in range(len(player_ids))}\n",
    "        map_losses = {player_ids[i]: losses[i] for i in range(len(player_ids))}\n",
    "        \n",
    "        # Compile pandas DataFrame per dataset\n",
    "        dfs = cards_df.stack().reset_index() #stack cards according to tournament pick order\n",
    "        dfs['pick_idx'] = dfs.index + 1 #make pick numbering start from 1\n",
    "        \n",
    "        # Misc cleanup\n",
    "        dfs.rename(columns = {'level_0': 'round_idx', 0: 'card_name', 'level_1': 'player_id'}, inplace = True)\n",
    "        dfs['tournament_id'] = tournament_id\n",
    "        dfs['date'] = date\n",
    "        \n",
    "        # Mappings\n",
    "        dfs['player_idx'] = dfs['player_id'].map(map_idx)\n",
    "        dfs['player_idx_rl'] = dfs['player_id'].map(map_idx_rl)\n",
    "        dfs['deck_wins'] = dfs['player_id'].map(map_wins)\n",
    "        dfs['deck_losses'] = dfs['player_id'].map(map_losses)\n",
    "        \n",
    "        # Adjust pick order for even rounds (since it goes in the opposite direction)\n",
    "        dfs.loc[dfs['round_idx']%2 == 0, 'pick_idx'] = (dfs['round_idx']-1)*8+dfs['player_idx_rl']\n",
    "        \n",
    "        # Select and organize columns\n",
    "        dfs = dfs[['card_name', 'pick_idx', 'player_idx', 'player_idx_rl', 'round_idx', 'deck_wins', 'deck_losses', 'player_id', 'tournament_id', 'date']]\n",
    "        \n",
    "        # Stack the DataFrames on top of each other\n",
    "        df = pd.concat([df, dfs.reset_index(drop=True)], axis=0)\n",
    "        "
   ]
  },
  {
   "cell_type": "markdown",
   "id": "bb8e0cee",
   "metadata": {},
   "source": [
    "Check if everything looks alright so far."
   ]
  },
  {
   "cell_type": "code",
   "execution_count": 396,
   "id": "765c3625",
   "metadata": {},
   "outputs": [
    {
     "data": {
      "text/html": [
       "<div>\n",
       "<style scoped>\n",
       "    .dataframe tbody tr th:only-of-type {\n",
       "        vertical-align: middle;\n",
       "    }\n",
       "\n",
       "    .dataframe tbody tr th {\n",
       "        vertical-align: top;\n",
       "    }\n",
       "\n",
       "    .dataframe thead th {\n",
       "        text-align: right;\n",
       "    }\n",
       "</style>\n",
       "<table border=\"1\" class=\"dataframe\">\n",
       "  <thead>\n",
       "    <tr style=\"text-align: right;\">\n",
       "      <th></th>\n",
       "      <th>card_name</th>\n",
       "      <th>pick_idx</th>\n",
       "      <th>player_idx</th>\n",
       "      <th>player_idx_rl</th>\n",
       "      <th>round_idx</th>\n",
       "      <th>deck_wins</th>\n",
       "      <th>deck_losses</th>\n",
       "      <th>player_id</th>\n",
       "      <th>tournament_id</th>\n",
       "      <th>date</th>\n",
       "    </tr>\n",
       "  </thead>\n",
       "  <tbody>\n",
       "    <tr>\n",
       "      <th>0</th>\n",
       "      <td>black lotus</td>\n",
       "      <td>1</td>\n",
       "      <td>1</td>\n",
       "      <td>8</td>\n",
       "      <td>1</td>\n",
       "      <td>1</td>\n",
       "      <td>3</td>\n",
       "      <td>April</td>\n",
       "      <td>YYZ1</td>\n",
       "      <td>2020-04-11</td>\n",
       "    </tr>\n",
       "    <tr>\n",
       "      <th>1</th>\n",
       "      <td>ancestral recall</td>\n",
       "      <td>2</td>\n",
       "      <td>2</td>\n",
       "      <td>7</td>\n",
       "      <td>1</td>\n",
       "      <td>3</td>\n",
       "      <td>3</td>\n",
       "      <td>David</td>\n",
       "      <td>YYZ1</td>\n",
       "      <td>2020-04-11</td>\n",
       "    </tr>\n",
       "    <tr>\n",
       "      <th>2</th>\n",
       "      <td>sol ring</td>\n",
       "      <td>3</td>\n",
       "      <td>3</td>\n",
       "      <td>6</td>\n",
       "      <td>1</td>\n",
       "      <td>5</td>\n",
       "      <td>0</td>\n",
       "      <td>Dom Reborn</td>\n",
       "      <td>YYZ1</td>\n",
       "      <td>2020-04-11</td>\n",
       "    </tr>\n",
       "    <tr>\n",
       "      <th>3</th>\n",
       "      <td>time vault</td>\n",
       "      <td>4</td>\n",
       "      <td>4</td>\n",
       "      <td>5</td>\n",
       "      <td>1</td>\n",
       "      <td>1</td>\n",
       "      <td>2</td>\n",
       "      <td>Alex</td>\n",
       "      <td>YYZ1</td>\n",
       "      <td>2020-04-11</td>\n",
       "    </tr>\n",
       "    <tr>\n",
       "      <th>4</th>\n",
       "      <td>mox sapphire</td>\n",
       "      <td>5</td>\n",
       "      <td>5</td>\n",
       "      <td>4</td>\n",
       "      <td>1</td>\n",
       "      <td>0</td>\n",
       "      <td>3</td>\n",
       "      <td>Jacob</td>\n",
       "      <td>YYZ1</td>\n",
       "      <td>2020-04-11</td>\n",
       "    </tr>\n",
       "    <tr>\n",
       "      <th>...</th>\n",
       "      <td>...</td>\n",
       "      <td>...</td>\n",
       "      <td>...</td>\n",
       "      <td>...</td>\n",
       "      <td>...</td>\n",
       "      <td>...</td>\n",
       "      <td>...</td>\n",
       "      <td>...</td>\n",
       "      <td>...</td>\n",
       "      <td>...</td>\n",
       "    </tr>\n",
       "    <tr>\n",
       "      <th>355</th>\n",
       "      <td>future sight</td>\n",
       "      <td>356</td>\n",
       "      <td>4</td>\n",
       "      <td>5</td>\n",
       "      <td>45</td>\n",
       "      <td>1</td>\n",
       "      <td>2</td>\n",
       "      <td>Alex</td>\n",
       "      <td>YYZ1</td>\n",
       "      <td>2020-04-11</td>\n",
       "    </tr>\n",
       "    <tr>\n",
       "      <th>356</th>\n",
       "      <td>ulamog, the ceaseless hunger</td>\n",
       "      <td>357</td>\n",
       "      <td>5</td>\n",
       "      <td>4</td>\n",
       "      <td>45</td>\n",
       "      <td>0</td>\n",
       "      <td>3</td>\n",
       "      <td>Jacob</td>\n",
       "      <td>YYZ1</td>\n",
       "      <td>2020-04-11</td>\n",
       "    </tr>\n",
       "    <tr>\n",
       "      <th>357</th>\n",
       "      <td>secluded steppe</td>\n",
       "      <td>358</td>\n",
       "      <td>6</td>\n",
       "      <td>3</td>\n",
       "      <td>45</td>\n",
       "      <td>2</td>\n",
       "      <td>3</td>\n",
       "      <td>Andrew</td>\n",
       "      <td>YYZ1</td>\n",
       "      <td>2020-04-11</td>\n",
       "    </tr>\n",
       "    <tr>\n",
       "      <th>358</th>\n",
       "      <td>seedtime</td>\n",
       "      <td>359</td>\n",
       "      <td>7</td>\n",
       "      <td>2</td>\n",
       "      <td>45</td>\n",
       "      <td>2</td>\n",
       "      <td>4</td>\n",
       "      <td>Freyja</td>\n",
       "      <td>YYZ1</td>\n",
       "      <td>2020-04-11</td>\n",
       "    </tr>\n",
       "    <tr>\n",
       "      <th>359</th>\n",
       "      <td>ramunap ruins</td>\n",
       "      <td>360</td>\n",
       "      <td>8</td>\n",
       "      <td>1</td>\n",
       "      <td>45</td>\n",
       "      <td>5</td>\n",
       "      <td>1</td>\n",
       "      <td>Russel</td>\n",
       "      <td>YYZ1</td>\n",
       "      <td>2020-04-11</td>\n",
       "    </tr>\n",
       "  </tbody>\n",
       "</table>\n",
       "<p>360 rows × 10 columns</p>\n",
       "</div>"
      ],
      "text/plain": [
       "                        card_name  pick_idx  player_idx  player_idx_rl  \\\n",
       "0                     black lotus         1           1              8   \n",
       "1                ancestral recall         2           2              7   \n",
       "2                        sol ring         3           3              6   \n",
       "3                      time vault         4           4              5   \n",
       "4                    mox sapphire         5           5              4   \n",
       "..                            ...       ...         ...            ...   \n",
       "355                  future sight       356           4              5   \n",
       "356  ulamog, the ceaseless hunger       357           5              4   \n",
       "357               secluded steppe       358           6              3   \n",
       "358                      seedtime       359           7              2   \n",
       "359                 ramunap ruins       360           8              1   \n",
       "\n",
       "     round_idx deck_wins deck_losses   player_id tournament_id        date  \n",
       "0            1         1           3       April          YYZ1  2020-04-11  \n",
       "1            1         3           3       David          YYZ1  2020-04-11  \n",
       "2            1         5           0  Dom Reborn          YYZ1  2020-04-11  \n",
       "3            1         1           2        Alex          YYZ1  2020-04-11  \n",
       "4            1         0           3       Jacob          YYZ1  2020-04-11  \n",
       "..         ...       ...         ...         ...           ...         ...  \n",
       "355         45         1           2        Alex          YYZ1  2020-04-11  \n",
       "356         45         0           3       Jacob          YYZ1  2020-04-11  \n",
       "357         45         2           3      Andrew          YYZ1  2020-04-11  \n",
       "358         45         2           4      Freyja          YYZ1  2020-04-11  \n",
       "359         45         5           1      Russel          YYZ1  2020-04-11  \n",
       "\n",
       "[360 rows x 10 columns]"
      ]
     },
     "execution_count": 396,
     "metadata": {},
     "output_type": "execute_result"
    }
   ],
   "source": [
    "pd.set_option(\"display.max_rows\", 60, \"display.max_columns\", None)\n",
    "dfs"
   ]
  },
  {
   "cell_type": "markdown",
   "id": "c934d88e",
   "metadata": {},
   "source": [
    "**Save progress**"
   ]
  },
  {
   "cell_type": "code",
   "execution_count": 336,
   "id": "8cd0b046",
   "metadata": {},
   "outputs": [],
   "source": [
    "df.to_csv(DATA_PATH + '/cleaned_vrd_data.csv', index=False)"
   ]
  },
  {
   "cell_type": "markdown",
   "id": "e96d5498",
   "metadata": {},
   "source": [
    "# To do\n",
    "Data Cleaning:\n",
    "- Update wins based on the extra data source\n",
    "\n",
    "EDA:\n",
    "- pick priority first n rounds\n",
    "- cards with highest winrate\n",
    "\n",
    "More later:\n",
    "- identify card colours from api\n",
    "- Include card types and subtypes\n",
    "- best performing colour combinations\n",
    "- best cards per colour (based on winrate)\n",
    "- best cards per colour (based on absolute pick order)\n",
    "- When are lands picked?\n",
    "- Lands priority order\n",
    "- Total mana curve"
   ]
  },
  {
   "cell_type": "code",
   "execution_count": 370,
   "id": "d73d868c",
   "metadata": {},
   "outputs": [
    {
     "data": {
      "text/plain": [
       "array(['ALEX1', 'CHI2', 'CHI3', 'DIS1', 'DIS10', 'DIS11', 'DIS12',\n",
       "       'DIS13', 'DIS2', 'DIS3', 'DIS4', 'DIS8', 'DIS9', 'GG1', 'MT1',\n",
       "       'MT2', 'MT3', 'NWVRD2', 'NWVRD3', 'NWVRD4', 'NWVRD5', 'NWVRD6',\n",
       "       'NWVRD7', 'NWVRD8', 'OCL3', 'PDX1', 'PDX2', 'PDX3', 'PDX4',\n",
       "       'StLotus1', 'StLotus2', 'StLotus3', 'StLotus4', 'StLotus5',\n",
       "       'StLotus7', 'StLotus8', 'STLPresents1', 'TAN2', 'VIC8', 'WIN1',\n",
       "       'WIN2', 'WIN3', 'WIN4', 'WIN7', 'YYZ1'], dtype=object)"
      ]
     },
     "execution_count": 370,
     "metadata": {},
     "output_type": "execute_result"
    }
   ],
   "source": [
    "df['tournament_id'].unique()"
   ]
  },
  {
   "cell_type": "code",
   "execution_count": 398,
   "id": "eea2bbea",
   "metadata": {},
   "outputs": [
    {
     "data": {
      "text/plain": [
       "<AxesSubplot:>"
      ]
     },
     "execution_count": 398,
     "metadata": {},
     "output_type": "execute_result"
    },
    {
     "data": {
      "image/png": "[encoded data removed]",
      "text/plain": [
       "<Figure size 432x288 with 1 Axes>"
      ]
     },
     "metadata": {
      "needs_background": "light"
     },
     "output_type": "display_data"
    }
   ],
   "source": [
    "df.loc[df['card_name']=='seedtime']['round_idx'].hist()"
   ]
  },
  {
   "cell_type": "code",
   "execution_count": null,
   "id": "b5316d5d",
   "metadata": {},
   "outputs": [],
   "source": []
  }
 ],
 "metadata": {
  "kernelspec": {
   "display_name": "rotisserie",
   "language": "python",
   "name": "rotisserie"
  },
  "language_info": {
   "codemirror_mode": {
    "name": "ipython",
    "version": 3
   },
   "file_extension": ".py",
   "mimetype": "text/x-python",
   "name": "python",
   "nbconvert_exporter": "python",
   "pygments_lexer": "ipython3",
   "version": "3.8.10"
  }
 },
 "nbformat": 4,
 "nbformat_minor": 5
}
